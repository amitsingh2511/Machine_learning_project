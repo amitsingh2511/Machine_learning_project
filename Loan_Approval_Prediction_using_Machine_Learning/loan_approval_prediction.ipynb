{
 "cells": [
  {
   "cell_type": "code",
   "execution_count": null,
   "metadata": {},
   "outputs": [],
   "source": [
    "import pandas as pd\n",
    "import numpy as np\n",
    "import csv\n",
    "import matplotlib.pyplot as plt\n",
    "import seaborn as sns\n",
    "\n",
    "data = pd.read_csv(\"D:/My project/Machine_learning_project/Data/LoanApprovalPrediction.csv\")\n",
    "# Grab a peek at the data\n",
    "data.head(10)"
   ]
  },
  {
   "cell_type": "code",
   "execution_count": null,
   "metadata": {},
   "outputs": [],
   "source": [
    "obj = (data.dtypes == 'object')\n",
    "print(\"Categorical variables:\",len(list(obj[obj].index)))"
   ]
  },
  {
   "cell_type": "code",
   "execution_count": null,
   "metadata": {},
   "outputs": [],
   "source": [
    "# Dropping Loan_ID column\n",
    "data.drop(['Loan_ID'],axis=1,inplace=True)"
   ]
  },
  {
   "cell_type": "code",
   "execution_count": null,
   "metadata": {},
   "outputs": [],
   "source": [
    "obj = (data.dtypes == 'object')\n",
    "object_cols = list(obj[obj].index)\n",
    "plt.figure(figsize=(18,36))\n",
    "index = 1\n",
    "\n",
    "for col in object_cols:\n",
    "    y = data[col].value_counts()\n",
    "    plt.subplot(11,4,index)\n",
    "    plt.xticks(rotation=90)\n",
    "    sns.barplot(x=list(y.index), y=y)\n",
    "    index +=1\n"
   ]
  },
  {
   "cell_type": "code",
   "execution_count": null,
   "metadata": {},
   "outputs": [],
   "source": [
    "# Import label encoder\n",
    "from sklearn import preprocessing\n",
    "\t\n",
    "# label_encoder object knows how\n",
    "# to understand word labels.\n",
    "label_encoder = preprocessing.LabelEncoder()\n",
    "obj = (data.dtypes == 'object')\n",
    "for col in list(obj[obj].index):\n",
    "    data[col] = label_encoder.fit_transform(data[col])"
   ]
  },
  {
   "cell_type": "code",
   "execution_count": null,
   "metadata": {},
   "outputs": [],
   "source": [
    "# To find the number of columns with\n",
    "# datatype==object\n",
    "obj = (data.dtypes == 'object')\n",
    "print(\"Categorical variables:\",len(list(obj[obj].index)))"
   ]
  },
  {
   "cell_type": "code",
   "execution_count": null,
   "metadata": {},
   "outputs": [],
   "source": [
    "plt.figure(figsize=(12,6))\n",
    "\n",
    "sns.heatmap(data.corr(),cmap='BrBG',fmt='.2f',\n",
    "\t\t\tlinewidths=2,annot=True)"
   ]
  },
  {
   "cell_type": "code",
   "execution_count": null,
   "metadata": {},
   "outputs": [],
   "source": [
    "sns.catplot(x=\"Gender\", y=\"Married\",\n",
    "\t\t\thue=\"Loan_Status\",\n",
    "\t\t\tkind=\"bar\",\n",
    "\t\t\tdata=data)"
   ]
  },
  {
   "cell_type": "code",
   "execution_count": null,
   "metadata": {},
   "outputs": [],
   "source": [
    "for col in data.columns:\n",
    "    data[col] = data[col].fillna(data[col].mean())\n",
    "\t\n",
    "data.isna().sum()"
   ]
  },
  {
   "cell_type": "code",
   "execution_count": null,
   "metadata": {},
   "outputs": [],
   "source": [
    "from sklearn.model_selection import train_test_split\n",
    "\n",
    "X = data.drop(['Loan_Status'],axis=1)\n",
    "Y = data['Loan_Status']\n",
    "X.shape,Y.shape\n",
    "\n",
    "X_train, X_test, Y_train, Y_test = train_test_split(X, Y,\n",
    "\t\t\t\t\t\t\t\t\t\t\t\t\ttest_size=0.4,\n",
    "\t\t\t\t\t\t\t\t\t\t\t\t\trandom_state=1)\n",
    "X_train.shape, X_test.shape, Y_train.shape, Y_test.shape"
   ]
  },
  {
   "cell_type": "code",
   "execution_count": null,
   "metadata": {},
   "outputs": [],
   "source": [
    "from sklearn.neighbors import KNeighborsClassifier\n",
    "from sklearn.ensemble import RandomForestClassifier\n",
    "from sklearn.svm import SVC\n",
    "from sklearn.linear_model import LogisticRegression\n",
    "\n",
    "from sklearn import metrics\n",
    "\n",
    "knn = KNeighborsClassifier(n_neighbors=3)\n",
    "rfc = RandomForestClassifier(n_estimators = 7,\n",
    "\t\t\t\t\t\t\tcriterion = 'entropy',\n",
    "\t\t\t\t\t\t\trandom_state =7)\n",
    "svc = SVC()\n",
    "lc = LogisticRegression()\n",
    "\n",
    "# making predictions on the training set\n",
    "for clf in (rfc, knn, svc,lc):\n",
    "\tclf.fit(X_train, Y_train)\n",
    "\tY_pred = clf.predict(X_train)\n",
    "\tprint(\"Accuracy score of \",\n",
    "\t\tclf.__class__.__name__,\n",
    "\t\t\"=\",100*metrics.accuracy_score(Y_train,\n",
    "\t\t\t\t\t\t\t\t\t\tY_pred))"
   ]
  },
  {
   "cell_type": "code",
   "execution_count": null,
   "metadata": {},
   "outputs": [],
   "source": [
    "# making predictions on the testing set\n",
    "for clf in (rfc, knn, svc,lc):\n",
    "\tclf.fit(X_train, Y_train)\n",
    "\tY_pred = clf.predict(X_test)\n",
    "\tprint(\"Accuracy score of \",\n",
    "\t\tclf.__class__.__name__,\"=\",\n",
    "\t\t100*metrics.accuracy_score(Y_test,\n",
    "\t\t\t\t\t\t\t\t\tY_pred))"
   ]
  }
 ],
 "metadata": {
  "kernelspec": {
   "display_name": "Python 3",
   "language": "python",
   "name": "python3"
  },
  "language_info": {
   "codemirror_mode": {
    "name": "ipython",
    "version": 3
   },
   "file_extension": ".py",
   "mimetype": "text/x-python",
   "name": "python",
   "nbconvert_exporter": "python",
   "pygments_lexer": "ipython3",
   "version": "3.8.9"
  },
  "orig_nbformat": 4
 },
 "nbformat": 4,
 "nbformat_minor": 2
}
